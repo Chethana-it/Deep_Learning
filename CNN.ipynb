{
  "nbformat": 4,
  "nbformat_minor": 0,
  "metadata": {
    "colab": {
      "provenance": []
    },
    "kernelspec": {
      "name": "python3",
      "display_name": "Python 3"
    },
    "language_info": {
      "name": "python"
    }
  },
  "cells": [
    {
      "cell_type": "code",
      "execution_count": 22,
      "metadata": {
        "id": "7ZUVXngyX5FK"
      },
      "outputs": [],
      "source": [
        "import tensorflow as tf\n",
        "import numpy as np\n",
        "import matplotlib.pyplot as plt\n",
        "from tensorflow.keras import datasets, layers, models"
      ]
    },
    {
      "cell_type": "code",
      "source": [
        "(x_train, y_train), (x_test, y_test) = datasets.cifar10.load_data()\n",
        "x_train.shape"
      ],
      "metadata": {
        "id": "ya5zpV00YaLG",
        "colab": {
          "base_uri": "https://localhost:8080/"
        },
        "outputId": "a078df79-683b-485e-8386-48657e36b8bf"
      },
      "execution_count": 2,
      "outputs": [
        {
          "output_type": "stream",
          "name": "stdout",
          "text": [
            "Downloading data from https://www.cs.toronto.edu/~kriz/cifar-10-python.tar.gz\n",
            "170498071/170498071 [==============================] - 3s 0us/step\n"
          ]
        },
        {
          "output_type": "execute_result",
          "data": {
            "text/plain": [
              "(50000, 32, 32, 3)"
            ]
          },
          "metadata": {},
          "execution_count": 2
        }
      ]
    },
    {
      "cell_type": "code",
      "source": [
        "x_test.shape"
      ],
      "metadata": {
        "id": "m0gdMsNcYrOS",
        "colab": {
          "base_uri": "https://localhost:8080/"
        },
        "outputId": "fb8c93b4-339c-4aad-f351-b83a96e47e9d"
      },
      "execution_count": 3,
      "outputs": [
        {
          "output_type": "execute_result",
          "data": {
            "text/plain": [
              "(10000, 32, 32, 3)"
            ]
          },
          "metadata": {},
          "execution_count": 3
        }
      ]
    },
    {
      "cell_type": "code",
      "source": [
        "y_train.shape"
      ],
      "metadata": {
        "colab": {
          "base_uri": "https://localhost:8080/"
        },
        "id": "UCbbZWYMaoxl",
        "outputId": "50f55f96-ad0e-4296-8e2b-f1184bd3afc9"
      },
      "execution_count": 4,
      "outputs": [
        {
          "output_type": "execute_result",
          "data": {
            "text/plain": [
              "(50000, 1)"
            ]
          },
          "metadata": {},
          "execution_count": 4
        }
      ]
    },
    {
      "cell_type": "code",
      "source": [
        "y_train[:5]"
      ],
      "metadata": {
        "colab": {
          "base_uri": "https://localhost:8080/"
        },
        "id": "JlmaczhKbinE",
        "outputId": "e5b07362-6bf0-4532-8aa1-3a4d77b3b9e6"
      },
      "execution_count": 5,
      "outputs": [
        {
          "output_type": "execute_result",
          "data": {
            "text/plain": [
              "array([[6],\n",
              "       [9],\n",
              "       [9],\n",
              "       [4],\n",
              "       [1]], dtype=uint8)"
            ]
          },
          "metadata": {},
          "execution_count": 5
        }
      ]
    },
    {
      "cell_type": "code",
      "source": [
        "y_train= y_train.reshape(-1,)\n",
        "y_train[:5]"
      ],
      "metadata": {
        "colab": {
          "base_uri": "https://localhost:8080/"
        },
        "id": "5Pez2uthbls7",
        "outputId": "3f4e7c0b-331c-46d5-8610-9118cf7407b8"
      },
      "execution_count": 6,
      "outputs": [
        {
          "output_type": "execute_result",
          "data": {
            "text/plain": [
              "array([6, 9, 9, 4, 1], dtype=uint8)"
            ]
          },
          "metadata": {},
          "execution_count": 6
        }
      ]
    },
    {
      "cell_type": "code",
      "source": [
        "classes = [\"airplane\",\"automobile\",\"bird\",\"cat\",\"deer\",\"dog\",\"frog\",\"horse\",\"ship\",\"truck\"]"
      ],
      "metadata": {
        "id": "Q2T7dbpFauV_"
      },
      "execution_count": 7,
      "outputs": []
    },
    {
      "cell_type": "code",
      "source": [
        "classes[9]"
      ],
      "metadata": {
        "colab": {
          "base_uri": "https://localhost:8080/",
          "height": 36
        },
        "id": "8kfdNugcJvZt",
        "outputId": "454d3009-03bb-42ae-f7d1-255e40644e7a"
      },
      "execution_count": 8,
      "outputs": [
        {
          "output_type": "execute_result",
          "data": {
            "text/plain": [
              "'truck'"
            ],
            "application/vnd.google.colaboratory.intrinsic+json": {
              "type": "string"
            }
          },
          "metadata": {},
          "execution_count": 8
        }
      ]
    },
    {
      "cell_type": "code",
      "source": [
        "def plot_sample(X, y, index):\n",
        "    plt.figure(figsize = (15,2))\n",
        "    plt.imshow(X[index])\n",
        "    plt.xlabel(classes[y[index]])"
      ],
      "metadata": {
        "id": "nuZJIPnyZqzM"
      },
      "execution_count": 36,
      "outputs": []
    },
    {
      "cell_type": "code",
      "source": [
        "plot_sample(x_train,y_train,0)"
      ],
      "metadata": {
        "colab": {
          "base_uri": "https://localhost:8080/",
          "height": 237
        },
        "id": "M90cF57nZwtu",
        "outputId": "9a0a4344-7504-4109-c1a7-57efd22613dd"
      },
      "execution_count": 10,
      "outputs": [
        {
          "output_type": "display_data",
          "data": {
            "text/plain": [
              "<Figure size 1500x200 with 1 Axes>"
            ],
            "image/png": "[encoded data removed]"
          },
          "metadata": {}
        }
      ]
    },
    {
      "cell_type": "code",
      "source": [
        "plot_sample(x_train,y_train,1)"
      ],
      "metadata": {
        "colab": {
          "base_uri": "https://localhost:8080/",
          "height": 237
        },
        "id": "x4A8LL53KKS_",
        "outputId": "198f5f87-7a84-452a-8cdd-c77eebc9792e"
      },
      "execution_count": 11,
      "outputs": [
        {
          "output_type": "display_data",
          "data": {
            "text/plain": [
              "<Figure size 1500x200 with 1 Axes>"
            ],
            "image/png": "[encoded data removed]"
          },
          "metadata": {}
        }
      ]
    },
    {
      "cell_type": "code",
      "source": [
        "x_train = x_train/255\n",
        "x_test = x_test/255"
      ],
      "metadata": {
        "id": "mFe3IHb2KYx6"
      },
      "execution_count": 12,
      "outputs": []
    },
    {
      "cell_type": "code",
      "source": [
        "ann = models.Sequential([\n",
        "        layers.Flatten(input_shape=(32,32,3)),\n",
        "        layers.Dense(3000, activation='relu'),\n",
        "        layers.Dense(1000, activation='relu'),\n",
        "        layers.Dense(10, activation='softmax')\n",
        "    ])\n",
        "\n",
        "ann.compile(optimizer='SGD',\n",
        "              loss='sparse_categorical_crossentropy',\n",
        "              metrics=['accuracy'])\n",
        "\n",
        "ann.fit(x_train, y_train, epochs=5)"
      ],
      "metadata": {
        "colab": {
          "base_uri": "https://localhost:8080/"
        },
        "id": "2AvRTWE0Kq-a",
        "outputId": "6b092635-e93f-4809-f343-69bc2d4e7706"
      },
      "execution_count": 13,
      "outputs": [
        {
          "output_type": "stream",
          "name": "stdout",
          "text": [
            "Epoch 1/5\n",
            "1563/1563 [==============================] - 155s 99ms/step - loss: 1.8090 - accuracy: 0.3552\n",
            "Epoch 2/5\n",
            "1563/1563 [==============================] - 153s 98ms/step - loss: 1.6193 - accuracy: 0.4279\n",
            "Epoch 3/5\n",
            "1563/1563 [==============================] - 150s 96ms/step - loss: 1.5383 - accuracy: 0.4567\n",
            "Epoch 4/5\n",
            "1563/1563 [==============================] - 148s 95ms/step - loss: 1.4807 - accuracy: 0.4789\n",
            "Epoch 5/5\n",
            "1563/1563 [==============================] - 150s 96ms/step - loss: 1.4294 - accuracy: 0.4970\n"
          ]
        },
        {
          "output_type": "execute_result",
          "data": {
            "text/plain": [
              "<keras.src.callbacks.History at 0x7a97ab279600>"
            ]
          },
          "metadata": {},
          "execution_count": 13
        }
      ]
    },
    {
      "cell_type": "code",
      "source": [
        "ann.evaluate(x_test,y_test)"
      ],
      "metadata": {
        "colab": {
          "base_uri": "https://localhost:8080/"
        },
        "id": "tf83CyGULrhr",
        "outputId": "81e477d5-781f-428c-cf70-fa7ca7d0107a"
      },
      "execution_count": 14,
      "outputs": [
        {
          "output_type": "stream",
          "name": "stdout",
          "text": [
            "313/313 [==============================] - 11s 34ms/step - loss: 1.4553 - accuracy: 0.4821\n"
          ]
        },
        {
          "output_type": "execute_result",
          "data": {
            "text/plain": [
              "[1.4552886486053467, 0.4821000099182129]"
            ]
          },
          "metadata": {},
          "execution_count": 14
        }
      ]
    },
    {
      "cell_type": "code",
      "source": [
        "from sklearn.metrics import confusion_matrix, classification_report\n",
        "import numpy as np\n",
        "y_pred =  ann.predict(x_test)\n",
        "y_pred_classes = [np.argmax(element) for element in y_pred]\n",
        "\n",
        "print(\"Classification Report:\\n\", classification_report(y_test,y_pred_classes))"
      ],
      "metadata": {
        "colab": {
          "base_uri": "https://localhost:8080/"
        },
        "id": "xp4p0IPQtqYG",
        "outputId": "05562b90-7881-4f0e-ee1a-96e1711f9367"
      },
      "execution_count": 16,
      "outputs": [
        {
          "output_type": "stream",
          "name": "stdout",
          "text": [
            "313/313 [==============================] - 10s 31ms/step\n",
            "Classification Report:\n",
            "               precision    recall  f1-score   support\n",
            "\n",
            "           0       0.69      0.42      0.52      1000\n",
            "           1       0.52      0.71      0.60      1000\n",
            "           2       0.37      0.33      0.35      1000\n",
            "           3       0.38      0.27      0.31      1000\n",
            "           4       0.60      0.18      0.27      1000\n",
            "           5       0.38      0.38      0.38      1000\n",
            "           6       0.38      0.79      0.51      1000\n",
            "           7       0.57      0.54      0.55      1000\n",
            "           8       0.59      0.66      0.62      1000\n",
            "           9       0.55      0.54      0.55      1000\n",
            "\n",
            "    accuracy                           0.48     10000\n",
            "   macro avg       0.50      0.48      0.47     10000\n",
            "weighted avg       0.50      0.48      0.47     10000\n",
            "\n"
          ]
        }
      ]
    },
    {
      "cell_type": "code",
      "source": [
        "cnn = models.Sequential([\n",
        "    # cnn\n",
        "    layers.Conv2D(filters=32, kernel_size=(3,3), activation='relu', input_shape=(32,32,3)),\n",
        "    layers.MaxPooling2D((2,2)),\n",
        "\n",
        "    layers.Conv2D(filters=32, kernel_size=(3,3), activation='relu'),\n",
        "    layers.MaxPooling2D((2,2)),\n",
        "\n",
        "    # dense\n",
        "    layers.Flatten(),\n",
        "    layers.Dense(64, activation='relu'),\n",
        "    layers.Dense(10,activation='softmax')\n",
        "])"
      ],
      "metadata": {
        "id": "86Lti1ZGzI5O"
      },
      "execution_count": 24,
      "outputs": []
    },
    {
      "cell_type": "code",
      "source": [
        "cnn.compile(optimizer='SGD',\n",
        "              loss='sparse_categorical_crossentropy',\n",
        "              metrics=['accuracy'])"
      ],
      "metadata": {
        "id": "arpLsD6-1Uv0"
      },
      "execution_count": 25,
      "outputs": []
    },
    {
      "cell_type": "code",
      "source": [
        "cnn.fit(x_train, y_train, epochs=10)"
      ],
      "metadata": {
        "colab": {
          "base_uri": "https://localhost:8080/"
        },
        "id": "m37ilmS745LD",
        "outputId": "89c44983-f3ac-4e54-dd80-2260310c164b"
      },
      "execution_count": 26,
      "outputs": [
        {
          "output_type": "stream",
          "name": "stdout",
          "text": [
            "Epoch 1/10\n",
            "1563/1563 [==============================] - 49s 31ms/step - loss: 1.9909 - accuracy: 0.2701\n",
            "Epoch 2/10\n",
            "1563/1563 [==============================] - 50s 32ms/step - loss: 1.6142 - accuracy: 0.4218\n",
            "Epoch 3/10\n",
            "1563/1563 [==============================] - 48s 31ms/step - loss: 1.4588 - accuracy: 0.4772\n",
            "Epoch 4/10\n",
            "1563/1563 [==============================] - 51s 33ms/step - loss: 1.3692 - accuracy: 0.5116\n",
            "Epoch 5/10\n",
            "1563/1563 [==============================] - 48s 31ms/step - loss: 1.3010 - accuracy: 0.5381\n",
            "Epoch 6/10\n",
            "1563/1563 [==============================] - 50s 32ms/step - loss: 1.2413 - accuracy: 0.5618\n",
            "Epoch 7/10\n",
            "1563/1563 [==============================] - 48s 31ms/step - loss: 1.1901 - accuracy: 0.5808\n",
            "Epoch 8/10\n",
            "1563/1563 [==============================] - 50s 32ms/step - loss: 1.1420 - accuracy: 0.5976\n",
            "Epoch 9/10\n",
            "1563/1563 [==============================] - 48s 31ms/step - loss: 1.0954 - accuracy: 0.6147\n",
            "Epoch 10/10\n",
            "1563/1563 [==============================] - 52s 33ms/step - loss: 1.0564 - accuracy: 0.6276\n"
          ]
        },
        {
          "output_type": "execute_result",
          "data": {
            "text/plain": [
              "<keras.src.callbacks.History at 0x7a97ad899570>"
            ]
          },
          "metadata": {},
          "execution_count": 26
        }
      ]
    },
    {
      "cell_type": "code",
      "source": [
        "cnn.evaluate(x_test, y_test)"
      ],
      "metadata": {
        "colab": {
          "base_uri": "https://localhost:8080/"
        },
        "id": "gxGRAvL15B7a",
        "outputId": "02c53e6a-7dc8-4cea-a692-7b1fa0cb01af"
      },
      "execution_count": 28,
      "outputs": [
        {
          "output_type": "stream",
          "name": "stdout",
          "text": [
            "313/313 [==============================] - 3s 9ms/step - loss: 1.1383 - accuracy: 0.6002\n"
          ]
        },
        {
          "output_type": "execute_result",
          "data": {
            "text/plain": [
              "[1.1383426189422607, 0.6001999974250793]"
            ]
          },
          "metadata": {},
          "execution_count": 28
        }
      ]
    },
    {
      "cell_type": "code",
      "source": [
        "y_test = y_test.reshape(-1,)\n",
        "y_test[:5]"
      ],
      "metadata": {
        "colab": {
          "base_uri": "https://localhost:8080/"
        },
        "id": "EDGcrslFEhO0",
        "outputId": "47c840d3-0e80-4be9-bc4c-c4f079fb1ffe"
      },
      "execution_count": 30,
      "outputs": [
        {
          "output_type": "execute_result",
          "data": {
            "text/plain": [
              "array([3, 8, 8, 0, 6], dtype=uint8)"
            ]
          },
          "metadata": {},
          "execution_count": 30
        }
      ]
    },
    {
      "cell_type": "code",
      "source": [
        "plot_sample(x_test, y_test, 1)"
      ],
      "metadata": {
        "colab": {
          "base_uri": "https://localhost:8080/",
          "height": 237
        },
        "id": "jtXKPrxjE-DW",
        "outputId": "2c666882-1258-4dd0-b2ea-bd77b64693f4"
      },
      "execution_count": 38,
      "outputs": [
        {
          "output_type": "display_data",
          "data": {
            "text/plain": [
              "<Figure size 1500x200 with 1 Axes>"
            ],
            "image/png": "[encoded data removed]"
          },
          "metadata": {}
        }
      ]
    },
    {
      "cell_type": "code",
      "source": [
        "y_pred = cnn.predict(x_test)\n",
        "y_pred[:5]"
      ],
      "metadata": {
        "colab": {
          "base_uri": "https://localhost:8080/"
        },
        "id": "H32JFlABFV9R",
        "outputId": "407c4542-75e1-4c1b-83c6-6f6e370ffcfc"
      },
      "execution_count": 39,
      "outputs": [
        {
          "output_type": "stream",
          "name": "stdout",
          "text": [
            "313/313 [==============================] - 5s 14ms/step\n"
          ]
        },
        {
          "output_type": "execute_result",
          "data": {
            "text/plain": [
              "array([[1.53878108e-02, 1.98708405e-03, 1.23915568e-01, 4.59824532e-01,\n",
              "        2.93572098e-02, 1.95910215e-01, 1.62310153e-01, 5.14096022e-03,\n",
              "        2.21593026e-03, 3.95058701e-03],\n",
              "       [1.15184300e-01, 1.32418677e-01, 1.49248794e-04, 6.08210721e-05,\n",
              "        1.37819734e-04, 8.42264308e-06, 3.61839229e-05, 1.72980785e-04,\n",
              "        6.74463093e-01, 7.73685500e-02],\n",
              "       [1.72015145e-01, 2.32140154e-01, 4.92679980e-03, 2.41463515e-03,\n",
              "        6.84301928e-03, 2.35784551e-04, 3.92676244e-04, 5.49849682e-03,\n",
              "        3.37615550e-01, 2.37917662e-01],\n",
              "       [8.59845638e-01, 1.43245840e-02, 1.08787436e-02, 2.27121799e-03,\n",
              "        6.82062050e-03, 6.22548469e-05, 3.26486817e-03, 2.54285289e-03,\n",
              "        9.56520140e-02, 4.33718506e-03],\n",
              "       [1.08607186e-04, 2.81495042e-04, 3.22411768e-02, 4.90188263e-02,\n",
              "        5.73301911e-01, 8.82521085e-03, 3.34906071e-01, 4.74798988e-04,\n",
              "        4.52155946e-04, 3.89773864e-04]], dtype=float32)"
            ]
          },
          "metadata": {},
          "execution_count": 39
        }
      ]
    },
    {
      "cell_type": "code",
      "source": [
        "np.argmax(y_pred[0])"
      ],
      "metadata": {
        "colab": {
          "base_uri": "https://localhost:8080/"
        },
        "id": "893i91EoGe5g",
        "outputId": "df0da22f-9dad-4bd9-f0fe-e75dbc87cb04"
      },
      "execution_count": 40,
      "outputs": [
        {
          "output_type": "execute_result",
          "data": {
            "text/plain": [
              "3"
            ]
          },
          "metadata": {},
          "execution_count": 40
        }
      ]
    },
    {
      "cell_type": "code",
      "source": [
        "y_classes = [np.argmax(element) for element in y_pred]\n",
        "y_classes[:5]"
      ],
      "metadata": {
        "colab": {
          "base_uri": "https://localhost:8080/"
        },
        "id": "RZbA_zqdHGWo",
        "outputId": "67901927-b139-4e40-d69a-114629d50168"
      },
      "execution_count": 41,
      "outputs": [
        {
          "output_type": "execute_result",
          "data": {
            "text/plain": [
              "[3, 8, 8, 0, 4]"
            ]
          },
          "metadata": {},
          "execution_count": 41
        }
      ]
    },
    {
      "cell_type": "code",
      "source": [
        "y_test[:5]"
      ],
      "metadata": {
        "colab": {
          "base_uri": "https://localhost:8080/"
        },
        "id": "kbSiPdEZHhcD",
        "outputId": "59400048-971e-41dc-f72c-62cacee235de"
      },
      "execution_count": 42,
      "outputs": [
        {
          "output_type": "execute_result",
          "data": {
            "text/plain": [
              "array([3, 8, 8, 0, 6], dtype=uint8)"
            ]
          },
          "metadata": {},
          "execution_count": 42
        }
      ]
    },
    {
      "cell_type": "code",
      "source": [
        "classes[y_classes[1]]"
      ],
      "metadata": {
        "colab": {
          "base_uri": "https://localhost:8080/",
          "height": 36
        },
        "id": "f2DTtY0WHonr",
        "outputId": "3affa254-9fd1-40c6-c3e6-a751cfe16d87"
      },
      "execution_count": 46,
      "outputs": [
        {
          "output_type": "execute_result",
          "data": {
            "text/plain": [
              "'ship'"
            ],
            "application/vnd.google.colaboratory.intrinsic+json": {
              "type": "string"
            }
          },
          "metadata": {},
          "execution_count": 46
        }
      ]
    },
    {
      "cell_type": "code",
      "source": [
        "print(\"Classification Report:\\n\", classification_report(y_test,y_classes))"
      ],
      "metadata": {
        "colab": {
          "base_uri": "https://localhost:8080/"
        },
        "id": "CazdC9n7ICsZ",
        "outputId": "bddc89be-bf65-479a-d554-5a9f6d18e85e"
      },
      "execution_count": 47,
      "outputs": [
        {
          "output_type": "stream",
          "name": "stdout",
          "text": [
            "Classification Report:\n",
            "               precision    recall  f1-score   support\n",
            "\n",
            "           0       0.62      0.76      0.68      1000\n",
            "           1       0.78      0.63      0.69      1000\n",
            "           2       0.58      0.29      0.39      1000\n",
            "           3       0.50      0.36      0.42      1000\n",
            "           4       0.44      0.70      0.54      1000\n",
            "           5       0.65      0.37      0.47      1000\n",
            "           6       0.65      0.73      0.69      1000\n",
            "           7       0.56      0.75      0.64      1000\n",
            "           8       0.83      0.63      0.72      1000\n",
            "           9       0.57      0.79      0.66      1000\n",
            "\n",
            "    accuracy                           0.60     10000\n",
            "   macro avg       0.62      0.60      0.59     10000\n",
            "weighted avg       0.62      0.60      0.59     10000\n",
            "\n"
          ]
        }
      ]
    },
    {
      "cell_type": "code",
      "source": [],
      "metadata": {
        "id": "S9JcKPZgNsKD"
      },
      "execution_count": null,
      "outputs": []
    }
  ]
}